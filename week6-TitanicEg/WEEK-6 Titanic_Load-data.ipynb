{
 "cells": [
  {
   "cell_type": "markdown",
   "id": "bbdf3b45",
   "metadata": {},
   "source": [
    "## Activity 2.5.1: Load Titanic Data"
   ]
  },
  {
   "cell_type": "code",
   "execution_count": 5,
   "id": "f1a79db3",
   "metadata": {},
   "outputs": [
    {
     "name": "stdout",
     "output_type": "stream",
     "text": [
      "Loading data...Done!\n",
      "Successfully loaded 891 records.\n"
     ]
    }
   ],
   "source": [
    "import csv\n",
    "\n",
    "file_path = \"titanic.csv\"\n",
    "\n",
    "records = []\n",
    "\n",
    "print(\"Loading data...\", end=\"\")\n",
    "\n",
    "try:  \n",
    "    with open(file_path) as csv_file:\n",
    "        csv_reader = csv.reader(csv_file)\n",
    "        headings = next(csv_reader)\n",
    "    \n",
    "        for line in csv_reader:\n",
    "            records.append(line)\n",
    "  \n",
    "        print(\"Done!\")\n",
    "        print(f\"Successfully loaded {len(records)} records.\")\n",
    "\n",
    "except IOError:\n",
    "    print(\"Could not read the file.\")"
   ]
  }
 ],
 "metadata": {
  "kernelspec": {
   "display_name": "Python 3",
   "language": "python",
   "name": "python3"
  },
  "language_info": {
   "codemirror_mode": {
    "name": "ipython",
    "version": 3
   },
   "file_extension": ".py",
   "mimetype": "text/x-python",
   "name": "python",
   "nbconvert_exporter": "python",
   "pygments_lexer": "ipython3",
   "version": "3.8.8"
  }
 },
 "nbformat": 4,
 "nbformat_minor": 5
}
