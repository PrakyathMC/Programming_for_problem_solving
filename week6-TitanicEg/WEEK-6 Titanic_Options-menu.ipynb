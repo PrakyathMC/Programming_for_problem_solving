{
 "cells": [
  {
   "cell_type": "markdown",
   "id": "fa099aae",
   "metadata": {},
   "source": [
    "## Activity 2.5.2: Options Menu"
   ]
  },
  {
   "cell_type": "code",
   "execution_count": 1,
   "id": "e2209e2d",
   "metadata": {},
   "outputs": [
    {
     "name": "stdout",
     "output_type": "stream",
     "text": [
      "Loading data...Done!\n",
      "Successfully loaded 891 records.\n",
      "\n",
      "        Please select one of the following:\n",
      "        \n",
      "        [1] Display the names of all passengers\n",
      "        [2] Display the number of passengers that survived\n",
      "        [3] Display the number of passengers per gender \n",
      "        [4] Display the number of passengers per age group\n",
      "        \n",
      "        \n",
      "1\n",
      "You have selected option: 1\n"
     ]
    }
   ],
   "source": [
    "# importing the csv library\n",
    "import csv\n",
    "\n",
    "file_path = \"titanic.csv\"\n",
    "\n",
    "records = []\n",
    "\n",
    "print(\"Loading data...\", end=\"\")\n",
    "\n",
    "try:  \n",
    "    with open(file_path) as csv_file:\n",
    "        csv_reader = csv.reader(csv_file)\n",
    "        headings = next(csv_reader)\n",
    "    \n",
    "        for line in csv_reader:\n",
    "            records.append(line)\n",
    "  \n",
    "        print(\"Done!\")\n",
    "        print(f\"Successfully loaded {len(records)} records.\")\n",
    "        \n",
    "        print(\"\"\"\n",
    "        Please select one of the following:\n",
    "        \n",
    "        [1] Display the names of all passengers\n",
    "        [2] Display the number of passengers that survived\n",
    "        [3] Display the number of passengers per gender \n",
    "        [4] Display the number of passengers per age group\n",
    "        \n",
    "        \"\"\")\n",
    "        \n",
    "        selected_option = int(input(\"\"))\n",
    "        print(f\"You have selected option: {selected_option}\")\n",
    "\n",
    "except IOError:\n",
    "    print(\"Cannot read the file\")"
   ]
  }
 ],
 "metadata": {
  "kernelspec": {
   "display_name": "Python 3",
   "language": "python",
   "name": "python3"
  },
  "language_info": {
   "codemirror_mode": {
    "name": "ipython",
    "version": 3
   },
   "file_extension": ".py",
   "mimetype": "text/x-python",
   "name": "python",
   "nbconvert_exporter": "python",
   "pygments_lexer": "ipython3",
   "version": "3.8.8"
  }
 },
 "nbformat": 4,
 "nbformat_minor": 5
}
