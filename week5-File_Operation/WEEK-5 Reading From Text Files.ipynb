{
 "cells": [
  {
   "cell_type": "markdown",
   "id": "3b6b3ca4",
   "metadata": {},
   "source": [
    "## Activity 2.1.1: read_all"
   ]
  },
  {
   "cell_type": "code",
   "execution_count": 27,
   "id": "6cee979e",
   "metadata": {},
   "outputs": [
    {
     "name": "stdout",
     "output_type": "stream",
     "text": [
      "file created\n",
      "No one has ever become poor by giving. [Anne Frank] Whatâ€™s in a name? A rose by any other name would smell as sweet. [Shakespeare] Let the beauty of what you love be what you do. [Rumi] The time is always right to do what is right. [Martin Luther King, Jr.] Few are those who see with their own eyes and feel with their own hearts. [Einstein] In a gentle way, you can shake the world. [Gandhi] Feet, what do I need you for when I have wings to fly? [Frida Kahlo] What is done cannot be undone, but one can prevent it happening again. [Anne Frank] Wherever you are, and whatever you do, be in love. [Rumi] I paint flowers so they will not die. [Frida Kahlo] Only from the heart can you touch the sky. [Rumi] I hear and I forget. I see and I remember. I do and I understand. [Confucius]\n",
      "sentences entered\n"
     ]
    }
   ],
   "source": [
    "file_path = \"quotes.txt\"\n",
    "\n",
    "try:\n",
    "    with open(file_path, 'w') as my_file:\n",
    "        print(\"file created\")\n",
    "        sentences = input(\"\"\"\"\"\")\n",
    "        my_file.write(sentences)\n",
    "        print(\"sentences entered\")\n",
    "except IOError:\n",
    "    print(\"no file written\")"
   ]
  },
  {
   "cell_type": "code",
   "execution_count": 37,
   "id": "8fc968bb",
   "metadata": {},
   "outputs": [
    {
     "name": "stdout",
     "output_type": "stream",
     "text": [
      "No one has ever become poor by giving. [Anne Frank]\n",
      "Whatâ€™s in a name? A rose by any other name would smell as sweet. [Shakespeare]\n",
      "Let the beauty of what you love be what you do. [Rumi] \n",
      "The time is always right to do what is right. [Martin Luther King, Jr.] \n",
      "Few are those who see with their own eyes and feel with their own hearts. [Einstein]\n",
      "In a gentle way, you can shake the world. [Gandhi]\n",
      "Feet, what do I need you for when I have wings to fly? [Frida Kahlo]\n",
      "What is done cannot be undone, but one can prevent it happening again.[Anne Frank] \n",
      "Wherever you are, and whatever you do, be in love.[Rumi] \n",
      "I paint flowers so they will not die. [Frida Kahlo]\n",
      "Only from the heart can you touch the sky. [Rumi] \n",
      "I hear and I forget. I see and I remember. I do and I understand. [Confucius]\n"
     ]
    }
   ],
   "source": [
    "file_path = \"quotes.txt\"\n",
    "my_file = open(file_path)\n",
    "print(my_file.read())\n",
    "my_file.close()"
   ]
  },
  {
   "cell_type": "markdown",
   "id": "d4218e28",
   "metadata": {},
   "source": [
    "## Activity 2.1.2: read_single"
   ]
  },
  {
   "cell_type": "code",
   "execution_count": 38,
   "id": "d66379a0",
   "metadata": {},
   "outputs": [
    {
     "name": "stdout",
     "output_type": "stream",
     "text": [
      "No one has ever become poor by giving. [Anne Frank]\n",
      "\n"
     ]
    }
   ],
   "source": [
    "file_path = \"quotes.txt\"\n",
    "\n",
    "file = open(file_path)\n",
    "    \n",
    "print(file.readline())\n",
    "my_file.close()"
   ]
  },
  {
   "cell_type": "markdown",
   "id": "9f58eef4",
   "metadata": {},
   "source": [
    "## Activity 2.1.3: read_lines"
   ]
  },
  {
   "cell_type": "code",
   "execution_count": 39,
   "id": "87ebd9ca",
   "metadata": {},
   "outputs": [
    {
     "name": "stdout",
     "output_type": "stream",
     "text": [
      "['No one has ever become poor by giving. [Anne Frank]\\n', 'Whatâ€™s in a name? A rose by any other name would smell as sweet. [Shakespeare]\\n', 'Let the beauty of what you love be what you do. [Rumi] \\n', 'The time is always right to do what is right. [Martin Luther King, Jr.] \\n', 'Few are those who see with their own eyes and feel with their own hearts. [Einstein]\\n', 'In a gentle way, you can shake the world. [Gandhi]\\n', 'Feet, what do I need you for when I have wings to fly? [Frida Kahlo]\\n', 'What is done cannot be undone, but one can prevent it happening again.[Anne Frank] \\n', 'Wherever you are, and whatever you do, be in love.[Rumi] \\n', 'I paint flowers so they will not die. [Frida Kahlo]\\n', 'Only from the heart can you touch the sky. [Rumi] \\n', 'I hear and I forget. I see and I remember. I do and I understand. [Confucius]']\n"
     ]
    }
   ],
   "source": [
    "file_path = \"quotes.txt\"\n",
    "\n",
    "file = open(file_path)\n",
    "\n",
    "print(file.readlines())\n",
    "my_file.close()"
   ]
  },
  {
   "cell_type": "markdown",
   "id": "65c57ad0",
   "metadata": {},
   "source": [
    "## 'Activity 2.1.4: auto_close'"
   ]
  },
  {
   "cell_type": "code",
   "execution_count": 41,
   "id": "3771a5d0",
   "metadata": {},
   "outputs": [
    {
     "name": "stdout",
     "output_type": "stream",
     "text": [
      "['No one has ever become poor by giving. [Anne Frank]\\n', 'Whatâ€™s in a name? A rose by any other name would smell as sweet. [Shakespeare]\\n', 'Let the beauty of what you love be what you do. [Rumi] \\n', 'The time is always right to do what is right. [Martin Luther King, Jr.] \\n', 'Few are those who see with their own eyes and feel with their own hearts. [Einstein]\\n', 'In a gentle way, you can shake the world. [Gandhi]\\n', 'Feet, what do I need you for when I have wings to fly? [Frida Kahlo]\\n', 'What is done cannot be undone, but one can prevent it happening again.[Anne Frank] \\n', 'Wherever you are, and whatever you do, be in love.[Rumi] \\n', 'I paint flowers so they will not die. [Frida Kahlo]\\n', 'Only from the heart can you touch the sky. [Rumi] \\n', 'I hear and I forget. I see and I remember. I do and I understand. [Confucius]']\n"
     ]
    }
   ],
   "source": [
    "file_path = \"quotes.txt\"\n",
    "\n",
    "try:\n",
    "    with open(file_path) as my_file:\n",
    "        print(my_file.readlines())\n",
    "except IOError:\n",
    "    print(\"Nothing to display\")"
   ]
  },
  {
   "cell_type": "markdown",
   "id": "737938d3",
   "metadata": {},
   "source": [
    "## Activity 2.1.5: error_handling"
   ]
  },
  {
   "cell_type": "code",
   "execution_count": 42,
   "id": "134512c8",
   "metadata": {},
   "outputs": [
    {
     "name": "stdout",
     "output_type": "stream",
     "text": [
      "Cannot read file.\n"
     ]
    }
   ],
   "source": [
    "bad_file_path = \"bad_file\"\n",
    "\n",
    "try:\n",
    "    with open(bad_file_path) as file:\n",
    "        print(file.readlines())\n",
    "except IOError:\n",
    "    print(\"Cannot read file.\")"
   ]
  },
  {
   "cell_type": "markdown",
   "id": "0cf8f45a",
   "metadata": {},
   "source": [
    "## Activity 2.1.6: user_file_path"
   ]
  },
  {
   "cell_type": "code",
   "execution_count": 44,
   "id": "1533b1ca",
   "metadata": {},
   "outputs": [
    {
     "name": "stdout",
     "output_type": "stream",
     "text": [
      "Enter a file path: quotes.txt\n",
      "['No one has ever become poor by giving. [Anne Frank]\\n', 'Whatâ€™s in a name? A rose by any other name would smell as sweet. [Shakespeare]\\n', 'Let the beauty of what you love be what you do. [Rumi] \\n', 'The time is always right to do what is right. [Martin Luther King, Jr.] \\n', 'Few are those who see with their own eyes and feel with their own hearts. [Einstein]\\n', 'In a gentle way, you can shake the world. [Gandhi]\\n', 'Feet, what do I need you for when I have wings to fly? [Frida Kahlo]\\n', 'What is done cannot be undone, but one can prevent it happening again.[Anne Frank] \\n', 'Wherever you are, and whatever you do, be in love.[Rumi] \\n', 'I paint flowers so they will not die. [Frida Kahlo]\\n', 'Only from the heart can you touch the sky. [Rumi] \\n', 'I hear and I forget. I see and I remember. I do and I understand. [Confucius]']\n"
     ]
    }
   ],
   "source": [
    "try:\n",
    "    file_path = input(\"Enter a file path: \")\n",
    "    with open(file_path) as file:\n",
    "        print(file.readlines())\n",
    "except IOError:\n",
    "    print(\"Cannot read file.\")"
   ]
  },
  {
   "cell_type": "markdown",
   "id": "96a60b1d",
   "metadata": {},
   "source": [
    "## Activity 2.1.7: default_file_path"
   ]
  },
  {
   "cell_type": "code",
   "execution_count": 46,
   "id": "4c3b328b",
   "metadata": {},
   "outputs": [
    {
     "name": "stdout",
     "output_type": "stream",
     "text": [
      "Enter a file path: \n",
      "['No one has ever become poor by giving. [Anne Frank]\\n', 'Whatâ€™s in a name? A rose by any other name would smell as sweet. [Shakespeare]\\n', 'Let the beauty of what you love be what you do. [Rumi] \\n', 'The time is always right to do what is right. [Martin Luther King, Jr.] \\n', 'Few are those who see with their own eyes and feel with their own hearts. [Einstein]\\n', 'In a gentle way, you can shake the world. [Gandhi]\\n', 'Feet, what do I need you for when I have wings to fly? [Frida Kahlo]\\n', 'What is done cannot be undone, but one can prevent it happening again.[Anne Frank] \\n', 'Wherever you are, and whatever you do, be in love.[Rumi] \\n', 'I paint flowers so they will not die. [Frida Kahlo]\\n', 'Only from the heart can you touch the sky. [Rumi] \\n', 'I hear and I forget. I see and I remember. I do and I understand. [Confucius]']\n"
     ]
    }
   ],
   "source": [
    "file_path = input(\"Enter a file path: \") or \"quotes.txt\"\n",
    "try:\n",
    "    with open(file_path) as file:\n",
    "        print(file.readlines())\n",
    "except IOError:\n",
    "    print(\"Cannot read file.\")"
   ]
  },
  {
   "cell_type": "markdown",
   "id": "8e42bcfc",
   "metadata": {},
   "source": [
    "## Activity 2.1.8: strip_lines"
   ]
  },
  {
   "cell_type": "code",
   "execution_count": 47,
   "id": "5a75770c",
   "metadata": {},
   "outputs": [
    {
     "name": "stdout",
     "output_type": "stream",
     "text": [
      "Enter a file path: \n",
      "No one has ever become poor by giving. [Anne Frank]\n",
      "Whatâ€™s in a name? A rose by any other name would smell as sweet. [Shakespeare]\n",
      "Let the beauty of what you love be what you do. [Rumi]\n",
      "The time is always right to do what is right. [Martin Luther King, Jr.]\n",
      "Few are those who see with their own eyes and feel with their own hearts. [Einstein]\n",
      "In a gentle way, you can shake the world. [Gandhi]\n",
      "Feet, what do I need you for when I have wings to fly? [Frida Kahlo]\n",
      "What is done cannot be undone, but one can prevent it happening again.[Anne Frank]\n",
      "Wherever you are, and whatever you do, be in love.[Rumi]\n",
      "I paint flowers so they will not die. [Frida Kahlo]\n",
      "Only from the heart can you touch the sky. [Rumi]\n",
      "I hear and I forget. I see and I remember. I do and I understand. [Confucius]\n"
     ]
    }
   ],
   "source": [
    "file_path = input(\"Enter a file path: \") or \"quotes.txt\"\n",
    "try:\n",
    "    with open(file_path) as file:\n",
    "        for line in file.readlines():\n",
    "            print(line.strip())\n",
    "except IOError:\n",
    "    print(\"Cannot read file.\")"
   ]
  }
 ],
 "metadata": {
  "kernelspec": {
   "display_name": "Python 3",
   "language": "python",
   "name": "python3"
  },
  "language_info": {
   "codemirror_mode": {
    "name": "ipython",
    "version": 3
   },
   "file_extension": ".py",
   "mimetype": "text/x-python",
   "name": "python",
   "nbconvert_exporter": "python",
   "pygments_lexer": "ipython3",
   "version": "3.8.8"
  }
 },
 "nbformat": 4,
 "nbformat_minor": 5
}
