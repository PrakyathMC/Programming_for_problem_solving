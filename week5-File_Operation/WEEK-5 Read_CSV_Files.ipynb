{
 "cells": [
  {
   "cell_type": "markdown",
   "id": "ab2cb692",
   "metadata": {},
   "source": [
    "## Activity 2.3.1: headings"
   ]
  },
  {
   "cell_type": "code",
   "execution_count": 10,
   "id": "d8e4cdcb",
   "metadata": {},
   "outputs": [
    {
     "name": "stdout",
     "output_type": "stream",
     "text": [
      "['Song,Artist,Category,Year']\n"
     ]
    }
   ],
   "source": [
    "#importing csv library\n",
    "import csv\n",
    "\n",
    "#specifying the file path from current directory to parent directory\n",
    "file_path = \"../songs.csv\"\n",
    "\n",
    "try:\n",
    "    with open(file_path) as csv_file:\n",
    "        \n",
    "        csv_reader = csv.reader(csv_file)\n",
    "        \n",
    "        # read in and store the headings separately\n",
    "        headings = next(csv_reader)\n",
    "\n",
    "        print(headings)\n",
    "    \n",
    "except IOError:\n",
    "    print(\"Cannot read file\")"
   ]
  },
  {
   "cell_type": "markdown",
   "id": "8f87336c",
   "metadata": {},
   "source": [
    "## Activity 2.3.2: values"
   ]
  },
  {
   "cell_type": "code",
   "execution_count": 14,
   "id": "e11dcfc2",
   "metadata": {},
   "outputs": [
    {
     "name": "stdout",
     "output_type": "stream",
     "text": [
      "['Song,Artist,Category,Year']\n",
      "\n",
      "['Blinding Lights,The Weeknd,r&b,2020']\n",
      "['Watermelon Sugar,Harry Styles,pop,2019']\n",
      "['Mood,24kGoldn,rap,2021']\n",
      "['Someone You Loved,Lewis Capaldi,pop,2019']\n",
      "['Perfect,Ed Sheeran,pop,2017']\n",
      "['Believer,Imagine Dragons,rock,2017']\n",
      "['Lovely,Billie Eilish,electropop,2018']\n",
      "['Circles,Post Malone,rap,2019']\n",
      "['Shape of You,Ed Sheeran,pop,2017']\n",
      "['Memories,Maroon 5,pop,2021']\n",
      "['Closer,The Chainsmokers,pop,2016']\n",
      "['Bad Guy,Billie Eilish,electropop,2019']\n",
      "[\"Say You Won't Let Go,James Arthur,pop,2016\"]\n"
     ]
    }
   ],
   "source": [
    "#importing csv library\n",
    "import csv\n",
    "\n",
    "#specifying the file path from current directory to parent directory\n",
    "file_path = \"../songs.csv\"\n",
    "\n",
    "try:\n",
    "    with open(file_path) as csv_file:\n",
    "        \n",
    "        csv_reader = csv.reader(csv_file)\n",
    "        \n",
    "        # read in and store the headings separately\n",
    "        headings = next(csv_reader)\n",
    "        print(f\"{headings}\\n\")\n",
    "        \n",
    "        for row in csv_reader:\n",
    "            print(row)\n",
    "    \n",
    "except IOError:\n",
    "    print(\"Cannot read file\")"
   ]
  },
  {
   "cell_type": "markdown",
   "id": "fa4b4ab8",
   "metadata": {},
   "source": [
    "## Activity 2.3.3: song_titles"
   ]
  },
  {
   "cell_type": "code",
   "execution_count": 25,
   "id": "7d292ad8",
   "metadata": {},
   "outputs": [
    {
     "name": "stdout",
     "output_type": "stream",
     "text": [
      "Song\n",
      "\n",
      "Blinding Lights\n",
      "Watermelon Sugar\n",
      "Mood\n",
      "Someone You Loved\n",
      "Perfect\n",
      "Believer\n",
      "Lovely\n",
      "ircles\n",
      "Shape of You\n",
      "Memories\n",
      "Closer\n",
      "Bad Guy\n",
      "Say You Won't Let Go\n"
     ]
    }
   ],
   "source": [
    "#importing csv library\n",
    "import csv\n",
    "\n",
    "#specifying the file path from current directory to parent directory\n",
    "file_path = \"../songs.csv\"\n",
    "\n",
    "try:\n",
    "    with open(file_path) as csv_file:\n",
    "        \n",
    "        csv_reader = csv.reader(csv_file)\n",
    "        \n",
    "        # read in and store the headings separately\n",
    "        headings = next(csv_reader)\n",
    "        \n",
    "        #printitng only the first heading\n",
    "        print(f\"{headings[0]}\\n\")\n",
    "        \n",
    "        for row in csv_reader:\n",
    "            print(row[0])\n",
    "            \n",
    "except IOError:\n",
    "    print(\"Cannot read file\")"
   ]
  },
  {
   "cell_type": "markdown",
   "id": "f38f8ca7",
   "metadata": {},
   "source": [
    "## Activity 2.3.4: formatted_values"
   ]
  },
  {
   "cell_type": "code",
   "execution_count": 27,
   "id": "292a201f",
   "metadata": {},
   "outputs": [
    {
     "name": "stdout",
     "output_type": "stream",
     "text": [
      "[2020] Blinding Lights (The Weeknd)\n",
      "[2019] Watermelon Sugar (Harry Styles)\n",
      "[2021] Mood (24kGoldn)\n",
      "[2019] Someone You Loved (Lewis Capaldi)\n",
      "[2017] Perfect (Ed Sheeran)\n",
      "[2017] Believer (Imagine Dragons)\n",
      "[2018] Lovely (Billie Eilish)\n",
      "[2019] ircles (Post Malone)\n",
      "[2017] Shape of You (Ed Sheeran)\n",
      "[2021] Memories (Maroon 5)\n",
      "[2016] Closer (The Chainsmokers)\n",
      "[2019] Bad Guy (Billie Eilish)\n",
      "[2016] Say You Won't Let Go (James Arthur)\n"
     ]
    }
   ],
   "source": [
    "#importing csv library\n",
    "import csv\n",
    "\n",
    "#specifying the file path from current directory to parent directory\n",
    "file_path = \"../songs.csv\"\n",
    "\n",
    "try:\n",
    "    with open(file_path) as csv_file:\n",
    "        \n",
    "        csv_reader = csv.reader(csv_file)\n",
    "        \n",
    "        # read in and store the headings separately\n",
    "        headings = next(csv_reader)\n",
    "        \n",
    "        for row in csv_reader:\n",
    "            print(f\"[{row[3]}] {row[0]} ({row[1]})\")\n",
    "            \n",
    "except IOError:\n",
    "    print(\"Cannot read file\")"
   ]
  }
 ],
 "metadata": {
  "kernelspec": {
   "display_name": "Python 3",
   "language": "python",
   "name": "python3"
  },
  "language_info": {
   "codemirror_mode": {
    "name": "ipython",
    "version": 3
   },
   "file_extension": ".py",
   "mimetype": "text/x-python",
   "name": "python",
   "nbconvert_exporter": "python",
   "pygments_lexer": "ipython3",
   "version": "3.8.8"
  }
 },
 "nbformat": 4,
 "nbformat_minor": 5
}
