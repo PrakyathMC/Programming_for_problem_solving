{
 "cells": [
  {
   "cell_type": "markdown",
   "id": "c6e2d130",
   "metadata": {},
   "source": [
    "## Activity 2.2.1: write_line"
   ]
  },
  {
   "cell_type": "code",
   "execution_count": 1,
   "id": "9c26f71c",
   "metadata": {},
   "outputs": [
    {
     "name": "stdout",
     "output_type": "stream",
     "text": [
      "Enter a file path\n",
      "The data has been written to the file.\n"
     ]
    }
   ],
   "source": [
    "file_path = input(\"Enter a file path\") or \"output.txt\"\n",
    "#specifying the path\n",
    "\n",
    "# adding a try and except block to catch errors\n",
    "try:\n",
    "    with open(file_path, 'w') as my_file:\n",
    "        my_file.write(\"data has been overwritten!\")\n",
    "        #writing data into the file\n",
    "        \n",
    "        print(\"The data has been written to the file.\")\n",
    "        \n",
    "except IOError:\n",
    "    print(\"Cannot write to the file!\")"
   ]
  },
  {
   "cell_type": "markdown",
   "id": "8c075bd2",
   "metadata": {},
   "source": [
    "## Activity 2.2.2: write_lines"
   ]
  },
  {
   "cell_type": "code",
   "execution_count": 2,
   "id": "85a333b2",
   "metadata": {},
   "outputs": [
    {
     "name": "stdout",
     "output_type": "stream",
     "text": [
      "Enter a file path: \n",
      "The data has been written to the file.\n"
     ]
    }
   ],
   "source": [
    "file_path = input(\"Enter a file path: \") or \"output.txt\"\n",
    "#specifying the path\n",
    "lines = [\"This is the first line.\\n\", \"This is the second line.\\n\", \"This is the third line.\\n\"] \n",
    "\n",
    "# adding a try and except block to catch errors\n",
    "try:\n",
    "    with open(file_path, 'w') as file:\n",
    "        file.writelines(lines)\n",
    "        # inputing lines of data into the file\n",
    "        \n",
    "        print(\"The data has been written to the file.\")\n",
    "except IOError:\n",
    "    print(\"Cannot write to the file.\")"
   ]
  },
  {
   "cell_type": "markdown",
   "id": "dfdb15db",
   "metadata": {},
   "source": [
    "## Activity 2.2.3: write_formatted"
   ]
  },
  {
   "cell_type": "code",
   "execution_count": 3,
   "id": "ac5987cb",
   "metadata": {},
   "outputs": [
    {
     "name": "stdout",
     "output_type": "stream",
     "text": [
      "Enter a file path: \n",
      "The data has been written to the file.\n"
     ]
    }
   ],
   "source": [
    "file_path = input(\"Enter a file path: \") or \"output.txt\"\n",
    "#specifying the path\n",
    "\n",
    "lines = [\"This is some text.\", \"This is some more text.\"] \n",
    "\n",
    "# adding a try and except block to catch errors\n",
    "try:\n",
    "    with open(file_path, 'w') as file:\n",
    "        for line in lines:\n",
    "            file.write(f\"{line}\\n\")\n",
    "        print(\"The data has been written to the file.\")\n",
    "except IOError:\n",
    "    print(\"Cannot write to the file.\")"
   ]
  },
  {
   "cell_type": "markdown",
   "id": "13dfec8b",
   "metadata": {},
   "source": [
    "## Activity 2.1.4: write_from_source"
   ]
  },
  {
   "cell_type": "code",
   "execution_count": 4,
   "id": "b90fac07",
   "metadata": {},
   "outputs": [
    {
     "name": "stdout",
     "output_type": "stream",
     "text": [
      "Enter a file path\n",
      "Enter a file path\n",
      "The data has been entered\n",
      "The data has been entered\n"
     ]
    }
   ],
   "source": [
    "# specifying 2 file paths to load and write\n",
    "source_file_path = input(\"Enter a file path\") or \"quotes.txt\"\n",
    "destination_file_path = input(\"Enter a file path\") or \"output.txt\"\n",
    "lines = []\n",
    "\n",
    "# adding a try and except block to catch errors\n",
    "try:\n",
    "    with open(source_file_path) as source_file:\n",
    "        for line in source_file:\n",
    "            lines.append(line.strip())               # appending data from quotes.txt to lines()\n",
    "        print(\"The data has been loaded\")\n",
    "        \n",
    "    with open(destination_file_path, 'w') as destination_file:\n",
    "        for line in lines:\n",
    "            destination_file.write(f\"{line}\\n\")      # writing lines from lines() to output.txt\n",
    "        print(\"The data has been written\")\n",
    "        \n",
    "except IOError:\n",
    "    print(\"Cannot write to the file\")"
   ]
  }
 ],
 "metadata": {
  "kernelspec": {
   "display_name": "Python 3",
   "language": "python",
   "name": "python3"
  },
  "language_info": {
   "codemirror_mode": {
    "name": "ipython",
    "version": 3
   },
   "file_extension": ".py",
   "mimetype": "text/x-python",
   "name": "python",
   "nbconvert_exporter": "python",
   "pygments_lexer": "ipython3",
   "version": "3.8.8"
  }
 },
 "nbformat": 4,
 "nbformat_minor": 5
}
