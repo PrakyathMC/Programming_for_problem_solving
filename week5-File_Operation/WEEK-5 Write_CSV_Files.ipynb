{
 "cells": [
  {
   "cell_type": "markdown",
   "id": "9c7c02e3",
   "metadata": {},
   "source": [
    "## Activity 2.4.1: basic"
   ]
  },
  {
   "cell_type": "code",
   "execution_count": 1,
   "id": "92ee1b85",
   "metadata": {},
   "outputs": [
    {
     "name": "stdout",
     "output_type": "stream",
     "text": [
      "Data has been entered!\n"
     ]
    }
   ],
   "source": [
    "#importing csv library\n",
    "import csv\n",
    "\n",
    "file_path = \"sample.csv\"\n",
    "\n",
    "try:\n",
    "    #opening a new csv file to write\n",
    "    with open(file_path, 'w') as csv_file:\n",
    "        \n",
    "        #writing into a csv file\n",
    "        csv_file.write(\"Sample Song,Sample Artist,Sample Category,Sample Year\")\n",
    "        print(\"Data has been entered!\")\n",
    "        \n",
    "except IOError:\n",
    "    print(\"Cannot read file\")"
   ]
  },
  {
   "cell_type": "markdown",
   "id": "320c6bf7",
   "metadata": {},
   "source": [
    "## Activity 2.4.2: append"
   ]
  },
  {
   "cell_type": "code",
   "execution_count": 3,
   "id": "60461b14",
   "metadata": {},
   "outputs": [
    {
     "name": "stdout",
     "output_type": "stream",
     "text": [
      "Data has been appended!\n"
     ]
    }
   ],
   "source": [
    "#importing csv library\n",
    "import csv\n",
    "\n",
    "file_path = \"sample.csv\"\n",
    "\n",
    "try:\n",
    "    #opening a new csv file to write\n",
    "    with open(file_path, 'a') as csv_file:\n",
    "        \n",
    "        #appending data into the file\n",
    "        csv_file.write(\"\\nMy Song,Uknown Artist,pop,2021\")\n",
    "        print(\"Data has been appended!\")\n",
    "        \n",
    "except IOError:\n",
    "    print(\"Cannot read file\")"
   ]
  },
  {
   "cell_type": "markdown",
   "id": "7a2781c2",
   "metadata": {},
   "source": [
    "## Activity 2.4.3: user_entry"
   ]
  },
  {
   "cell_type": "code",
   "execution_count": 5,
   "id": "d04b1933",
   "metadata": {},
   "outputs": [
    {
     "name": "stdout",
     "output_type": "stream",
     "text": [
      "Please enter year: 1974\n",
      "Please enter artist: Bob Marley\n",
      "Please enter song title: No woman no cry\n",
      "Please enter year: 2019\n",
      "Please enter artist: Maroon 5\n",
      "Please enter song title: Memories\n",
      "Please enter year: 2021\n",
      "Please enter artist: Selena Gomez\n",
      "Please enter song title: Baila Conmigo\n"
     ]
    }
   ],
   "source": [
    "file_path = \"user_entries.csv\"\n",
    "\n",
    "try:\n",
    "    with open(file_path, 'w') as csv_file:\n",
    "        \n",
    "        # write out the headings\n",
    "        csv_file.write(\"year,artist,song title\")\n",
    "        for i in range(3):\n",
    "            \n",
    "            # write out the user's songs\n",
    "            year = int(input(\"Please enter year: \"))\n",
    "            artist = input(\"Please enter artist: \")\n",
    "            title = input(\"Please enter song title: \")\n",
    "            csv_file.write(f\"\\n{year},{artist},{title}\")\n",
    "except IOError:\n",
    "    print(\"Cannot read file.\")"
   ]
  },
  {
   "cell_type": "markdown",
   "id": "b21d3ade",
   "metadata": {},
   "source": [
    "## Activity 2.4.4: reorder"
   ]
  },
  {
   "cell_type": "code",
   "execution_count": 8,
   "id": "5d755e42",
   "metadata": {},
   "outputs": [
    {
     "name": "stdout",
     "output_type": "stream",
     "text": [
      "Data has been entered!\n"
     ]
    }
   ],
   "source": [
    "# importing csv library\n",
    "import csv\n",
    "\n",
    "# defining source file to read and destination file to load\n",
    "src_file_path = \"../songs.csv\"\n",
    "dest_file_path = \"output.csv\"\n",
    "\n",
    "try:\n",
    "    with open(src_file_path) as source_file:\n",
    "        \n",
    "        csv_reader = csv.reader(source_file)\n",
    "        headings = next(csv_reader)\n",
    "        \n",
    "        with open(dest_file_path, 'w') as destination_file:\n",
    "            csv_writer = csv.writer(destination_file)\n",
    "            \n",
    "            csv_writer.writerow([headings[3],headings[2],headings[1],headings[0]])\n",
    "            \n",
    "            for values in csv_reader:\n",
    "                csv_writer.writerow([values[3],values[2],values[1],values[0]])\n",
    "                \n",
    "            print(\"Data has been entered!\")\n",
    "                \n",
    "except IOError:\n",
    "    print(\"Cannot read file\")"
   ]
  }
 ],
 "metadata": {
  "kernelspec": {
   "display_name": "Python 3",
   "language": "python",
   "name": "python3"
  },
  "language_info": {
   "codemirror_mode": {
    "name": "ipython",
    "version": 3
   },
   "file_extension": ".py",
   "mimetype": "text/x-python",
   "name": "python",
   "nbconvert_exporter": "python",
   "pygments_lexer": "ipython3",
   "version": "3.8.8"
  }
 },
 "nbformat": 4,
 "nbformat_minor": 5
}
